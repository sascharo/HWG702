{
 "cells": [
  {
   "cell_type": "markdown",
   "metadata": {},
   "source": [
    "### Imports"
   ]
  },
  {
   "cell_type": "code",
   "execution_count": 1,
   "metadata": {},
   "outputs": [],
   "source": [
    "import random\n",
    "import numpy as np\n",
    "import moviepy.editor as mpy\n",
    "from IPython.display import Image\n",
    "from numba import jit\n",
    "from pyrt.renderer import RGBImage, loadimage\n",
    "from pyrt.math import Vec2, Vec3\n",
    "from pyrt.math import clamp3, cross3, step\n",
    "from pyrt.math import SimplexNoise, TileableNoise\n",
    "from pyrt.math import mod\n",
    "from pyrt.geometry import Triangle, Vertex\n",
    "from pyrt.camera import PerspectiveCamera"
   ]
  },
  {
   "cell_type": "markdown",
   "metadata": {},
   "source": [
    "### Create virtual framebuffer"
   ]
  },
  {
   "cell_type": "code",
   "execution_count": 2,
   "metadata": {},
   "outputs": [],
   "source": [
    "w = 256\n",
    "h = 256\n",
    "image = RGBImage(w, h)"
   ]
  },
  {
   "cell_type": "markdown",
   "metadata": {},
   "source": [
    "### Draw a point"
   ]
  },
  {
   "cell_type": "code",
   "execution_count": 3,
   "metadata": {},
   "outputs": [
    {
     "data": {
      "text/html": [
       "<img src=\"data:image/png;base64,iVBORw0KGgoAAAANSUhEUgAAAQAAAAEACAIAAADTED8xAAAB/klEQVR4nO3dsQ2AMBAEwYf+ezYBLSC90M40YAd7qT0DAAAAAAAAAAAAAAAAAAAAAAAAAAAAAAAAAAAAAAAAAAAAAAAAAAAAAAAAAAAAAAAAAAAAAAAAAAAAAAAAAAAAAADfuc6ctbPn2joaXvf2BWCTAZBmAKQZAGkGQJoBkGYApBkAaQZAmgGQZgCkGQBpBkCaAZBmAKQZAGkGQJoBkGYApBkAaQZAmgGQZgCkGQBpBkCaAZBmAKQZAGkGQJoBkGYApBkAaQZAmgGQZgCkGQBpBkCaAZBmANvWfqkFAAAAAAAAAAAAAAAAAAAAAAAAAID/8IwnXeqnS/10qZ8u9dOlfrrUT5f66VI/XeqnS/10qZ8u9dOlfrrUT5f66VI/XeqnS/10qZ8u9dOlfrrUT5f66VI/XeqnS/10qZ8u9dOlfrrUT5f66VI/XeqnS/10qZ8u9dOlfrrUT5f66VI/XeqnS/10qZ8u9dOlfrrUT5f66VI/XeqnS/10qZ8u9dOlfrrUT5f66VI/XeqnS/10qZ8u9dOlfrrUT5f66VI/XeqnS/10qZ8u9dOlfrrUT5f66VI/XeqnS/10qZ8u9dOlfrrUT5f66VI/XeqnS/10qZ8u9dOlfrrUT5f66VI/XeqnS/10qZ8u9dOlfrrUT5f66VI/XeqnS/10qZ8u9VP2AGr0Z+rJBs0gAAAAAElFTkSuQmCC\"></img>"
      ],
      "text/plain": [
       "<IPython.core.display.HTML object>"
      ]
     },
     "metadata": {},
     "output_type": "display_data"
    },
    {
     "name": "stdout",
     "output_type": "stream",
     "text": [
      "Time to display: 0.03s\n"
     ]
    }
   ],
   "source": [
    "position = Vec2(128, 128)\n",
    "\n",
    "color = Vec3(0, 1, 0)\n",
    "\n",
    "image.drawPoint(position, color, 1)\n",
    "\n",
    "# Display the buffer\n",
    "image.framebuffer()"
   ]
  },
  {
   "cell_type": "markdown",
   "metadata": {},
   "source": [
    "### Draw a line"
   ]
  },
  {
   "cell_type": "code",
   "execution_count": 4,
   "metadata": {},
   "outputs": [
    {
     "name": "stdout",
     "output_type": "stream",
     "text": [
      "Time to display: 0.0s [FPS: 250.0]     "
     ]
    }
   ],
   "source": [
    "posStart = Vec2(0, 0)\n",
    "posEnd = Vec2(100, 100)\n",
    "\n",
    "color = Vec3(1, 0, 0)\n",
    "\n",
    "image.drawLine(posStart, posEnd, color)\n",
    "\n",
    "# Update the buffer above\n",
    "image.update()"
   ]
  },
  {
   "cell_type": "markdown",
   "metadata": {},
   "source": [
    "### Draw a rectangle"
   ]
  },
  {
   "cell_type": "code",
   "execution_count": 5,
   "metadata": {},
   "outputs": [
    {
     "name": "stdout",
     "output_type": "stream",
     "text": [
      "Time to display: 0.0s [FPS: 249.8]     "
     ]
    }
   ],
   "source": [
    "pos = Vec2(0, int(h*0.5))\n",
    "width = 40\n",
    "height = 40\n",
    "\n",
    "colorRec = Vec3(1, 0, 1)\n",
    "\n",
    "image.drawRectangle(pos, width, height, colorRec)\n",
    "\n",
    "image.update()"
   ]
  },
  {
   "cell_type": "markdown",
   "metadata": {},
   "source": [
    "### Animated cicrle"
   ]
  },
  {
   "cell_type": "code",
   "execution_count": 6,
   "metadata": {},
   "outputs": [
    {
     "name": "stdout",
     "output_type": "stream",
     "text": [
      "MoviePy - Building file animation.gif with imageio.\n"
     ]
    },
    {
     "name": "stderr",
     "output_type": "stream",
     "text": [
      "                                                               \r"
     ]
    },
    {
     "data": {
      "text/html": [
       "<img src=\"animation.gif\"/>"
      ],
      "text/plain": [
       "<IPython.core.display.Image object>"
      ]
     },
     "execution_count": 6,
     "metadata": {},
     "output_type": "execute_result"
    }
   ],
   "source": [
    "def makeFrame(frame):\n",
    "    imageAnim = RGBImage(w, h)\n",
    "    \n",
    "    pos = Vec2(127, 0)\n",
    "    rad = int(frame*8)\n",
    "    \n",
    "    colorBorder = Vec3(0, 1, 1)\n",
    "    colorFill = Vec3(1, 1, 0)\n",
    "    \n",
    "    imageAnim.drawCircleFilled(pos, rad, colorBorder, colorFill, 1)\n",
    "    return imageAnim.data\n",
    "\n",
    "animation = mpy.VideoClip(makeFrame, duration=6)\n",
    "\n",
    "animation.write_gif('animation.gif', fps=24, opt='OptimizePlus', fuzz=10)\n",
    "\n",
    "Image(url='animation.gif')"
   ]
  },
  {
   "cell_type": "markdown",
   "metadata": {
    "tags": []
   },
   "source": [
    "### Setting up a scene and drawing a triangle"
   ]
  },
  {
   "cell_type": "code",
   "execution_count": 7,
   "metadata": {},
   "outputs": [
    {
     "name": "stdout",
     "output_type": "stream",
     "text": [
      "**warning, display() is deprecated and will be removed**: Use the object directly in Jupyter\n",
      "           also check out the new methods framebuffer() and update() for animations in Jupyter\n"
     ]
    },
    {
     "data": {
      "text/html": [
       "<img src=\"data:image/png;base64,iVBORw0KGgoAAAANSUhEUgAAAQAAAAEACAIAAADTED8xAAAC+klEQVR4nO3TSXLjMBAEQOn/j+YcvITHtmSSAoFeMh/AIKqqbzcAAAAAAAAAAAAAAAAAAAAAAPhu27bVvwCLvK3fDdDR1927AXr5uXg3QBePtu4GqO/5yt0Ale3Ztxugpv3LdgNUc3TTboA6zq3ZDVDBKzt2A+T2+oLdAFmN2q4bIJ+xq3UDZHLFXt0AOVy3VDdAdFdv1A0Q15x1ugEimrlLN0As8xfpBohi1RbdAOutXaEbYKUI+4vwD3QUZ3lx/oQuom0u2v9QWcy1xfwrqom8s8j/RgXxFxb/D8kqy7ay/CeZ5FpVrr8luox7yvjPRJR3SXn/nCiybyj7/7NSjfXUeAWzVdpNpbcwQ73F1HsRV6m6larvYqTaK6n9Ol7VYR8d3sgZfZbR56Xs1W0T3d7LMz3X0PPVfNd5B53fzu1mARLoTPdv5NCR1r+SRi/6/kkmXWj6EcnUp+Pn5FOZdveQUk163U9WpWzbptGjJFaEIk8TXXoqfJEAE1PeEGJMSW0DCTMZhQ0n0jRUdRHBJqCkS4k3NPVMIOSgFDONqMNRyWQCD0QZS4g9BDUsJPzFFLCcCpYRfRCKWEDooahjKnEHpJRJBB2Wai4n4uAUdCHhpqCmS4g1EWUNJtB0VDaMKJNS3ABCTE19LxFfAUo8SXBlqPIwkRWj0AOEVZJadxFTYcr9g4DKU/FDomlC0b8QSivq/o84GlL6O0G0pXoRdNd6AK0fz4emM2j6bH7TbgztHsxfGk2i0VM5osUwWjySs4rPo/jzGKHsSMo+jNEKTqXgk7hSqcGUegyzFJlNkWewQvrxpH8AqyWeUOJfJ5KUQ0r500SVbE7JfpcM0owqzY+STYJpJfhFMhs4sPuoD32yfua438evFwAAAAAAAAAAAAAAAAAAAAAAAAAAAAAAAAAAAAAAAAAAAAAAAAAAAAAAAAAAAAAAAAAAAAAAAAAAAAAAAAAAAAAAAAAAAAAAAAAAAAAAAAAAAAAAAAAAAAAAAAAAAAAAAJjqH49qZLyu1KjVAAAAAElFTkSuQmCC\"></img>"
      ],
      "text/plain": [
       "<IPython.core.display.HTML object>"
      ]
     },
     "execution_count": 7,
     "metadata": {},
     "output_type": "execute_result"
    }
   ],
   "source": [
    "t = Triangle(Vertex(position=(-5, 1, 0)),\n",
    "             Vertex(position=(0, 1, 5)),\n",
    "             Vertex(position=(5, 1, 0)))\n",
    "\n",
    "camera = PerspectiveCamera(w, h, 60)\n",
    "camera.setView(Vec3(0, -10, 0), Vec3(0, 0, 0), Vec3(0, 0, 1))\n",
    "vp =  camera.projection * camera.view\n",
    "\n",
    "at = vp * t.a.position\n",
    "bt = vp * t.b.position\n",
    "ct = vp * t.c.position\n",
    "\n",
    "a_screenpos = Vec2(int(w * 0.5*(at.x + 1.) / at.z), int(h * 0.5*(at.y + 1.) / at.z))\n",
    "b_screenpos = Vec2(int(w * 0.5*(bt.x + 1.) / bt.z), int(h * 0.5*(bt.y + 1.) / at.z))\n",
    "c_screenpos = Vec2(int(w * 0.5*(ct.x + 1.) / ct.z), int(h * 0.5*(ct.y + 1.) / at.z))\n",
    "\n",
    "imageScene = RGBImage(w, h)\n",
    "color = Vec3(1,1,1)\n",
    "imageScene.drawLine(a_screenpos, c_screenpos, color)\n",
    "imageScene.drawLine(c_screenpos, b_screenpos, color)\n",
    "imageScene.drawLine(b_screenpos, a_screenpos, color)\n",
    "\n",
    "imageScene.display()"
   ]
  }
 ],
 "metadata": {
  "kernelspec": {
   "display_name": "Python 3",
   "language": "python",
   "name": "python3"
  },
  "language_info": {
   "codemirror_mode": {
    "name": "ipython",
    "version": 3
   },
   "file_extension": ".py",
   "mimetype": "text/x-python",
   "name": "python",
   "nbconvert_exporter": "python",
   "pygments_lexer": "ipython3",
   "version": "3.7.11"
  }
 },
 "nbformat": 4,
 "nbformat_minor": 4
}